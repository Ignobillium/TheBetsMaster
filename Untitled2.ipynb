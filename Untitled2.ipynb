{
 "cells": [
  {
   "cell_type": "code",
   "execution_count": 1,
   "metadata": {},
   "outputs": [],
   "source": [
    "from datetime import datetime, timedelta\n",
    "from lxml import html\n",
    "\n",
    "import pandas as pd\n",
    "import numpy as np"
   ]
  },
  {
   "cell_type": "code",
   "execution_count": 3,
   "metadata": {},
   "outputs": [],
   "source": [
    "with open('data/for_tests/live_match1.html', 'r') as f:\n",
    "    data = f.read()"
   ]
  },
  {
   "cell_type": "code",
   "execution_count": 5,
   "metadata": {},
   "outputs": [],
   "source": [
    "page = html.fromstring(data)"
   ]
  },
  {
   "cell_type": "code",
   "execution_count": 11,
   "metadata": {},
   "outputs": [
    {
     "data": {
      "text/plain": [
       "['0', '0']"
      ]
     },
     "execution_count": 11,
     "metadata": {},
     "output_type": "execute_result"
    }
   ],
   "source": [
    "page.find_class('current_score')[0].text_content().split()[0].split(':')"
   ]
  },
  {
   "cell_type": "code",
   "execution_count": 13,
   "metadata": {},
   "outputs": [
    {
     "data": {
      "text/plain": [
       "lxml.html.HtmlElement"
      ]
     },
     "execution_count": 13,
     "metadata": {},
     "output_type": "execute_result"
    }
   ],
   "source": [
    "type(page)"
   ]
  },
  {
   "cell_type": "code",
   "execution_count": 16,
   "metadata": {},
   "outputs": [
    {
     "data": {
      "text/plain": [
       "('Хапоэль Рамат-Ган', 'F.C. Kafr Qasim')"
      ]
     },
     "execution_count": 16,
     "metadata": {},
     "output_type": "execute_result"
    }
   ],
   "source": [
    "tuple(map(lambda x: x.text_content().replace('\\n', ''),\n",
    "    page.find_class('team-name')))"
   ]
  },
  {
   "cell_type": "code",
   "execution_count": 19,
   "metadata": {},
   "outputs": [
    {
     "data": {
      "text/plain": [
       "datetime.datetime"
      ]
     },
     "execution_count": 19,
     "metadata": {},
     "output_type": "execute_result"
    }
   ],
   "source": [
    "type(datetime.now())"
   ]
  },
  {
   "cell_type": "code",
   "execution_count": 117,
   "metadata": {},
   "outputs": [
    {
     "data": {
      "text/html": [
       "<div>\n",
       "<style scoped>\n",
       "    .dataframe tbody tr th:only-of-type {\n",
       "        vertical-align: middle;\n",
       "    }\n",
       "\n",
       "    .dataframe tbody tr th {\n",
       "        vertical-align: top;\n",
       "    }\n",
       "\n",
       "    .dataframe thead th {\n",
       "        text-align: right;\n",
       "    }\n",
       "</style>\n",
       "<table border=\"1\" class=\"dataframe\">\n",
       "  <thead>\n",
       "    <tr style=\"text-align: right;\">\n",
       "      <th></th>\n",
       "      <th>match_name</th>\n",
       "      <th>time_shift</th>\n",
       "      <th>score1</th>\n",
       "      <th>score2</th>\n",
       "      <th>k_1</th>\n",
       "      <th>k_x</th>\n",
       "      <th>k_2</th>\n",
       "      <th>1</th>\n",
       "      <th>x</th>\n",
       "      <th>2</th>\n",
       "    </tr>\n",
       "  </thead>\n",
       "  <tbody>\n",
       "    <tr>\n",
       "      <th>1</th>\n",
       "      <td>Hapoel Beer Sheva vs Хапоэль Хайфа</td>\n",
       "      <td>-3 days +12:15:52.079367</td>\n",
       "      <td>0.0</td>\n",
       "      <td>0.0</td>\n",
       "      <td>1.67</td>\n",
       "      <td>3.5</td>\n",
       "      <td>6.0</td>\n",
       "      <td>0.617813</td>\n",
       "      <td>0.294021</td>\n",
       "      <td>0.178367</td>\n",
       "    </tr>\n",
       "  </tbody>\n",
       "</table>\n",
       "</div>"
      ],
      "text/plain": [
       "                           match_name               time_shift  score1  \\\n",
       "1  Hapoel Beer Sheva vs Хапоэль Хайфа -3 days +12:15:52.079367     0.0   \n",
       "\n",
       "   score2   k_1  k_x  k_2         1         x         2  \n",
       "1     0.0  1.67  3.5  6.0  0.617813  0.294021  0.178367  "
      ]
     },
     "execution_count": 117,
     "metadata": {},
     "output_type": "execute_result"
    }
   ],
   "source": [
    "from datetime import datetime, timedelta\n",
    "\n",
    "from lxml import html\n",
    "import numpy as np\n",
    "import pandas as pd\n",
    "\n",
    "\n",
    "class MatchParser:\n",
    "\n",
    "    def __init__(self, raw_data, encoding='utf-8'):\n",
    "        if isinstance(raw_data, bytes):\n",
    "            self.page = html.fromstring(raw_data.decode(encoding))\n",
    "        elif isinstance(raw_data, str):\n",
    "            self.page = html.fromstring(raw_data)\n",
    "\n",
    "        self.ratio_blocks = self.page.find_class('ratio-block')\n",
    "\n",
    "        self._match_name = None\n",
    "\n",
    "        # hda = home - draw - away, 1x2\n",
    "        self._hda = None\n",
    "        self._hda_k = None\n",
    "\n",
    "        self._current_score = None\n",
    "        self._score1 = None\n",
    "        self._score2 = None\n",
    "\n",
    "        self._team1 = None\n",
    "        self._team2 = None\n",
    "\n",
    "        self._match_datetime = None\n",
    "        self._time_shift = None\n",
    "\n",
    "        self._match_table = None\n",
    "\n",
    "    @staticmethod\n",
    "    def generate_match_name(team1, team2):\n",
    "        \"\"\"Генерирует из предоставленыз названий команд имя матча.\n",
    "        Ф-ция введена для стандартизации этого говна, чтобы не вспоминать в процессе\n",
    "        разработки: \"А как я составлял имя матча?..\"\n",
    "\n",
    "        Parameters\n",
    "        ----------\n",
    "        team1 : `str`\n",
    "            Название первой команды.\n",
    "        team2 : `str`\n",
    "            Название второй команды.\n",
    "\n",
    "        Returns\n",
    "        ----------\n",
    "        match_name : имя матча (удивительно (восхитительно (как легко свою жизнь ...)))\n",
    "        \"\"\"\n",
    "        return '%s vs %s' % (team1, team2)\n",
    "\n",
    "    @staticmethod\n",
    "    def get_current_score(page):\n",
    "        \"\"\"Возвращает текущий счёт в виде кортежа из двух элементов.\n",
    "\n",
    "        Parameters\n",
    "        ----------\n",
    "        page : ` lxml.html.HtmlElement `\n",
    "            Суть страница матча\n",
    "\n",
    "        Returns\n",
    "        ----------\n",
    "        current_score : ` list of string `\n",
    "            (score_1, score_2).\n",
    "        \"\"\"\n",
    "        current_score_block = page.find_class('current_score')\n",
    "        if len(current_score_block) == 0:\n",
    "            #! error message\n",
    "            print('[!] There is no current_score block!')\n",
    "            return (None, None)\n",
    "\n",
    "        return tuple(\n",
    "            map(\n",
    "                lambda x: float(x),\n",
    "                current_score_block[0].text_content().split()[0].split(':')))\n",
    "\n",
    "    @staticmethod\n",
    "    def get_teams(page):\n",
    "        \"\"\"Возвращает кортеж из названий команд.\n",
    "\n",
    "        Parameters\n",
    "        ----------\n",
    "        page : ` lxml.html.HtmlElement `\n",
    "            Суть страница матча.\n",
    "\n",
    "        Returns\n",
    "        ----------\n",
    "        current_score : ` tuple of string `\n",
    "            (team1, team2).\n",
    "        \"\"\"\n",
    "        return tuple(\n",
    "            map(\n",
    "                lambda x: x.text_content().replace('\\n', ''),\n",
    "                page.find_class('team-name')))\n",
    "\n",
    "    @staticmethod\n",
    "    def get_match_datetime(page):\n",
    "        \"\"\"Возвращает время начала матча объектом datetime.datetime.\n",
    "\n",
    "        Parameters\n",
    "        ----------\n",
    "        page : ` lxml.html.HtmlElement `\n",
    "            Суть страница матча.\n",
    "\n",
    "        Returns\n",
    "        ----------\n",
    "        match_datetime : ` python datetime.datetime `\n",
    "            Время начала матча.\n",
    "        \"\"\"\n",
    "        datetime_block = page.find_class('date')\n",
    "        if len(datetime_block) == 0:\n",
    "            print('[!] cant detect datetime for match %s' %\n",
    "                MatchParser.generate_match_name(\n",
    "                    MatchParser.get_teams(page)[0],\n",
    "                    MatchParser.get_teams(page)[1]))\n",
    "            return\n",
    "\n",
    "        datetime_string = datetime_block[0].text_content()\n",
    "        datetime_list = [i.replace(',', '') for i in datetime_string.split('\\n') if len(i) > 0]\n",
    "        match_datetime = pd.to_datetime('%s %s' % (\n",
    "            datetime_list[1], datetime_list[-1])).to_pydatetime() + timedelta(hours=3)\n",
    "\n",
    "        return match_datetime\n",
    "\n",
    "    @property\n",
    "    def current_score(self):\n",
    "        if self._current_score is None:\n",
    "            self._current_score = MatchParser.get_current_score(self.page)\n",
    "        return self._current_score\n",
    "\n",
    "    @property\n",
    "    def score1(self):\n",
    "        if self._score1 is None:\n",
    "            self._score1 = self.current_score[0]\n",
    "        return self._score1\n",
    "\n",
    "    @property\n",
    "    def score2(self):\n",
    "        if self._score2 is None:\n",
    "            self._score2 = self.current_score[1]\n",
    "        return self._score2\n",
    "\n",
    "    @property\n",
    "    def team1(self):\n",
    "        if self._team1 is None:\n",
    "            self._team1 = MatchParser.get_teams(self.page)[0]\n",
    "        return self._team1\n",
    "\n",
    "    @property\n",
    "    def team2(self):\n",
    "        if self._team2 is None:\n",
    "            self._team2 = MatchParser.get_teams(self.page)[1]\n",
    "        return self._team2\n",
    "\n",
    "    @property\n",
    "    def match_datetime(self):\n",
    "        if self._match_datetime is None:\n",
    "            self._match_datetime = MatchParser.get_match_datetime(self.page)\n",
    "        return self._match_datetime\n",
    "\n",
    "    @property\n",
    "    def time_shift(self):\n",
    "        if self._time_shift is None:\n",
    "            self._time_shift = self.match_datetime - datetime.now()\n",
    "        return self._time_shift\n",
    "\n",
    "    @property\n",
    "    def match_name(self):\n",
    "        if self._match_name is None:\n",
    "            self._match_name = MatchParser.generate_match_name(self.team1, self.team2)\n",
    "        return self._match_name\n",
    "\n",
    "    @property\n",
    "    def hda(self):\n",
    "        if self._hda is None:\n",
    "            self.get_1x2()\n",
    "        return self._hda\n",
    "\n",
    "    @property\n",
    "    def hda_k(self):\n",
    "        if self._hda_k is None:\n",
    "            self.get_1x2()\n",
    "        return self._hda_k\n",
    "\n",
    "   \n",
    "\n",
    "    def get_1x2(self):\n",
    "        \"\"\"Из self.page получает таблицу с коэффициентами букмекеров.\n",
    "        Заполняет поля self.hda и self.hda_k : вероятности и коэффициенты соот-нно.\n",
    "\n",
    "        Returns\n",
    "        ----------\n",
    "        k : `pandas.DataFrame`\n",
    "            Таблица с коэффициентами букмекеров;\n",
    "                * columns = ['k_1', 'k_x', 'k_2']\n",
    "                * index = названия контор\n",
    "                * data = непосредственно коэфиициенты\n",
    "        \"\"\"\n",
    "        block = self.ratio_blocks[0]\n",
    "\n",
    "        odds = np.array(\n",
    "            list(map(\n",
    "                lambda x: float(x) if len(x) > 0 else np.nan,\n",
    "                [i.text_content().replace('\\n', '')\n",
    "                for i in block.find_class('number')[3:]]\n",
    "            ))).reshape((-1, 3))\n",
    "\n",
    "        bookies = [i.text_content().replace('\\n', '') for i in block.find_class('bookmaker-name')]\n",
    "\n",
    "        # коэффициенты\n",
    "        k = pd.DataFrame(data=odds, columns=['k_1', 'k_x', 'k_2'], index=bookies[3:])\n",
    "        #print(k)\n",
    "        # вероятности\n",
    "        p = pd.DataFrame(data=(odds ** -1).mean(axis=0).reshape((1,3)), columns=['1', 'x', '2'])\n",
    "\n",
    "        if self._hda is None: self._hda = p\n",
    "        if self._hda_k is None: self._hda_k = k\n",
    "\n",
    "        return k\n",
    "    \n",
    "    @property\n",
    "    def match_table(self):\n",
    "        if self._match_table is None:\n",
    "            self._match_table = pd.DataFrame({\n",
    "                'match_name': self.match_name,\n",
    "                'time_shift': self.time_shift,\n",
    "                'score1': self.score1,\n",
    "                'score2': self.score2}, index=[1])\n",
    "            \n",
    "            for bookie in ['Fonbet', 'LigaStavok']:\n",
    "                if bookie in self.hda_k.index:\n",
    "                    cols = self.hda_k.loc[bookie].index.values\n",
    "                    data = self.hda_k.loc[bookie].values.reshape((-1, len(cols)))\n",
    "                    self._match_table[cols] = pd.DataFrame(columns=cols, data=data, index=[1])\n",
    "                    \n",
    "            cols = self.hda.columns.values\n",
    "            data = self.hda.values.reshape((-1, len(cols)))\n",
    "            self._match_table[cols] = pd.DataFrame(columns=cols, data=data, index=[1])\n",
    "            \n",
    "        return self._match_table\n",
    "\n",
    "mp = MatchParser(data)\n",
    "mp.match_table"
   ]
  },
  {
   "cell_type": "code",
   "execution_count": 125,
   "metadata": {},
   "outputs": [
    {
     "data": {
      "text/plain": [
       "-3584.13201055"
      ]
     },
     "execution_count": 125,
     "metadata": {},
     "output_type": "execute_result"
    }
   ],
   "source": [
    "mp.time_shift.total_seconds() / 60"
   ]
  },
  {
   "cell_type": "code",
   "execution_count": 127,
   "metadata": {},
   "outputs": [
    {
     "data": {
      "text/plain": [
       "6600.0"
      ]
     },
     "execution_count": 127,
     "metadata": {},
     "output_type": "execute_result"
    }
   ],
   "source": [
    "timedelta(minutes = 50, hours = 1).total_seconds()"
   ]
  },
  {
   "cell_type": "code",
   "execution_count": null,
   "metadata": {},
   "outputs": [],
   "source": []
  }
 ],
 "metadata": {
  "kernelspec": {
   "display_name": "Python 3",
   "language": "python",
   "name": "python3"
  },
  "language_info": {
   "codemirror_mode": {
    "name": "ipython",
    "version": 3
   },
   "file_extension": ".py",
   "mimetype": "text/x-python",
   "name": "python",
   "nbconvert_exporter": "python",
   "pygments_lexer": "ipython3",
   "version": "3.6.9"
  }
 },
 "nbformat": 4,
 "nbformat_minor": 2
}
